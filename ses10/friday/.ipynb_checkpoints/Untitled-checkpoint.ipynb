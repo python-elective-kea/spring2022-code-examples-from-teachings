{
 "cells": [
  {
   "cell_type": "markdown",
   "metadata": {},
   "source": [
    "# Python students exercise"
   ]
  },
  {
   "cell_type": "code",
   "execution_count": 2,
   "metadata": {},
   "outputs": [],
   "source": [
    "class Student:\n",
    "\n",
    "    def __init__(self, name, cpr):\n",
    "        self.name = name\n",
    "        self.cpr = cpr\n",
    "\n",
    "    @property\n",
    "    def name(self):\n",
    "            return self.__name\n",
    "\n",
    "    @name.setter\n",
    "    def name(self, name):\n",
    "            self.__name = name.capitalize()\n",
    "\n",
    "    def __add__(self, student):\n",
    "            return Student('Anna the daugther', 1234)\n",
    "\n",
    "    def __str__(self):\n",
    "            return f'{self.name}, {self.cpr}'\n",
    "\n",
    "    def __repr__(self):\n",
    "            return f'{self.__dict__}'"
   ]
  },
  {
   "cell_type": "code",
   "execution_count": 20,
   "metadata": {},
   "outputs": [],
   "source": [
    "class PythonStudents:\n",
    "    \n",
    "    def __init__(self):\n",
    "        self.students = []\n",
    "        \n",
    "    def __add__(self, other):\n",
    "        self.students.append(other)\n",
    "        # protocol __add__ shoud return a new obkect of the class\n",
    "\n",
    "    def __iter__(self):\n",
    "        self.index = 0\n",
    "        return self\n",
    "\n",
    "    def __next__(self):\n",
    "        temp = self.index\n",
    "        self.index += 1\n",
    "        if self.index > len(self.students):\n",
    "            raise StopIteration()\n",
    "        return self.students[temp]\n",
    "\n",
    "\n",
    "\n"
   ]
  },
  {
   "cell_type": "code",
   "execution_count": 33,
   "metadata": {},
   "outputs": [],
   "source": [
    "ps = PythonStudents()"
   ]
  },
  {
   "cell_type": "code",
   "execution_count": 34,
   "metadata": {},
   "outputs": [],
   "source": [
    "\n",
    "ps + Student('Claus', 1234)\n",
    "ps + Student('Anna', 1234)"
   ]
  },
  {
   "cell_type": "code",
   "execution_count": 35,
   "metadata": {},
   "outputs": [
    {
     "name": "stdout",
     "output_type": "stream",
     "text": [
      "Claus, 1234\n",
      "Anna, 1234\n"
     ]
    }
   ],
   "source": [
    "for i in ps:\n",
    "    print(i)"
   ]
  },
  {
   "cell_type": "code",
   "execution_count": null,
   "metadata": {},
   "outputs": [],
   "source": []
  },
  {
   "cell_type": "code",
   "execution_count": null,
   "metadata": {},
   "outputs": [],
   "source": []
  }
 ],
 "metadata": {
  "kernelspec": {
   "display_name": "Python 3",
   "language": "python",
   "name": "python3"
  },
  "language_info": {
   "codemirror_mode": {
    "name": "ipython",
    "version": 3
   },
   "file_extension": ".py",
   "mimetype": "text/x-python",
   "name": "python",
   "nbconvert_exporter": "python",
   "pygments_lexer": "ipython3",
   "version": "3.8.5"
  }
 },
 "nbformat": 4,
 "nbformat_minor": 4
}
